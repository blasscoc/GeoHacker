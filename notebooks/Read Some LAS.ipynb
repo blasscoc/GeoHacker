{
 "cells": [
  {
   "cell_type": "code",
   "execution_count": null,
   "metadata": {
    "collapsed": false
   },
   "outputs": [],
   "source": [
    "!pip install lasio\n",
    "!pip install welly"
   ]
  },
  {
   "cell_type": "code",
   "execution_count": 4,
   "metadata": {
    "collapsed": true
   },
   "outputs": [],
   "source": [
    "from os import path\n",
    "import matplotlib.pylab as plt\n",
    "import numpy as np\n",
    "\n",
    "import lasio"
   ]
  },
  {
   "cell_type": "code",
   "execution_count": 5,
   "metadata": {
    "collapsed": false
   },
   "outputs": [],
   "source": [
    "DATAPATH = path.expanduser(\"~/Downloads\")"
   ]
  },
  {
   "cell_type": "code",
   "execution_count": 6,
   "metadata": {
    "collapsed": false
   },
   "outputs": [],
   "source": [
    "las = lasio.read(path.join(DATAPATH, \"COP_Proteus-small/COP_Proteus-1ST2_CH_QSLT_PnS_Processed_PTS.las\"))"
   ]
  },
  {
   "cell_type": "code",
   "execution_count": 7,
   "metadata": {
    "collapsed": false
   },
   "outputs": [
    {
     "data": {
      "text/plain": [
       "{'Version': [HeaderItem(mnemonic=VERS, unit=, value=2.0, descr=CWLS Log Ascii Standard - ...),\n",
       "  HeaderItem(mnemonic=WRAP, unit=, value=NO, descr=One line per depth step)],\n",
       " 'Well': [HeaderItem(mnemonic=STRT, unit=M, value=4481.0, descr=START DEPTH),\n",
       "  HeaderItem(mnemonic=STOP, unit=M, value=4962.906, descr=STOP DEPTH),\n",
       "  HeaderItem(mnemonic=STEP, unit=M, value=0.1524, descr=INCREMENT),\n",
       "  HeaderItem(mnemonic=NULL, unit=, value=-999.25, descr=NULL DATA VALUE),\n",
       "  HeaderItem(mnemonic=COMP, unit=, value=ConocoPhillips Australia, descr=COMPANY),\n",
       "  HeaderItem(mnemonic=WELL, unit=, value=Proteus-1 ST2, descr=WELL),\n",
       "  HeaderItem(mnemonic=FLD, unit=, value=Poseidon, descr=FIELD),\n",
       "  HeaderItem(mnemonic=LOC, unit=, value=, descr=LOCATION),\n",
       "  HeaderItem(mnemonic=PROV, unit=, value=Western Australia, descr=PROVINCE),\n",
       "  HeaderItem(mnemonic=STAT, unit=, value=Western Australia, descr=STATE),\n",
       "  HeaderItem(mnemonic=CNTY, unit=, value=Transocean Legend, descr=COUNTY),\n",
       "  HeaderItem(mnemonic=CTRY, unit=, value=Australia, descr=COUNTRY),\n",
       "  HeaderItem(mnemonic=DATE, unit=, value=, descr=DATE),\n",
       "  HeaderItem(mnemonic=UWI, unit=, value=Proteus-1 ST2, descr=UNIQUE WELL UWI),\n",
       "  HeaderItem(mnemonic=LIC, unit=, value=, descr=LICENSE NUMBER),\n",
       "  HeaderItem(mnemonic=API, unit=, value=, descr=API NUMBER),\n",
       "  HeaderItem(mnemonic=SRVC, unit=, value=, descr=SERVICE COMPANY)],\n",
       " 'Curves': [CurveItem(mnemonic=DEPT, unit=M, value=, descr=0       Index, original_mnemonic=DEPT, data.shape=(3163,)),\n",
       "  CurveItem(mnemonic=DTCO, unit=US/F, value=, descr=1       Delta-T Compressional, original_mnemonic=DTCO, data.shape=(3163,)),\n",
       "  CurveItem(mnemonic=GR_STGC, unit=GAPI, value=, descr=2       Gamma Ray, original_mnemonic=GR_STGC, data.shape=(3163,))],\n",
       " 'Parameter': [HeaderItem(mnemonic=PDAT, unit=, value=MSL, descr=Permanent Datum),\n",
       "  HeaderItem(mnemonic=EPD, unit=in, value=0.0, descr=Elevation of Permanent Da...),\n",
       "  HeaderItem(mnemonic=LMF, unit=, value=RT, descr=Logging Measured From (Name ...),\n",
       "  HeaderItem(mnemonic=APD, unit=in, value=870.08, descr=Elevation of Working D...),\n",
       "  HeaderItem(mnemonic=EKB, unit=in, value=870.08, descr=Elevation of Kelly Bus...),\n",
       "  HeaderItem(mnemonic=EGL, unit=in, value=-18523.62, descr=Elevation of Ground...),\n",
       "  HeaderItem(mnemonic=EDF, unit=in, value=870.08, descr=Elevation of Derrick F...)],\n",
       " 'Other': ''}"
      ]
     },
     "execution_count": 7,
     "metadata": {},
     "output_type": "execute_result"
    }
   ],
   "source": [
    "las.header"
   ]
  },
  {
   "cell_type": "code",
   "execution_count": 8,
   "metadata": {
    "collapsed": false
   },
   "outputs": [
    {
     "name": "stdout",
     "output_type": "stream",
     "text": [
      "           DTCO    GR_STGC\n",
      "DEPT                      \n",
      "4481.0000   NaN   58.80597\n",
      "4481.1524   NaN   57.80415\n",
      "4481.3048   NaN   58.39061\n",
      "4481.4572   NaN   57.63659\n",
      "4481.6096   NaN   55.23882\n",
      "4481.7620   NaN   56.08843\n",
      "4481.9144   NaN   53.58966\n",
      "4482.0668   NaN   54.18224\n",
      "4482.2192   NaN   55.48441\n",
      "4482.3716   NaN   53.49756\n",
      "4482.5240   NaN   55.55743\n",
      "4482.6764   NaN   53.13366\n",
      "4482.8288   NaN   58.42273\n",
      "4482.9812   NaN   58.55669\n",
      "4483.1336   NaN   60.01895\n",
      "4483.2860   NaN   59.43715\n",
      "4483.4384   NaN   61.28142\n",
      "4483.5908   NaN   59.79789\n",
      "4483.7432   NaN   56.37866\n",
      "4483.8956   NaN   50.53083\n",
      "4484.0480   NaN   45.67778\n",
      "4484.2004   NaN   40.96346\n",
      "4484.3528   NaN   35.96179\n",
      "4484.5052   NaN   35.08482\n",
      "4484.6576   NaN   37.94176\n",
      "4484.8100   NaN   42.77948\n",
      "4484.9624   NaN   44.90259\n",
      "4485.1148   NaN   44.54801\n",
      "4485.2672   NaN   43.50616\n",
      "4485.4196   NaN   42.31573\n",
      "...         ...        ...\n",
      "4958.4692   NaN  177.86444\n",
      "4958.6216   NaN  177.86444\n",
      "4958.7740   NaN  177.86444\n",
      "4958.9264   NaN  177.86444\n",
      "4959.0788   NaN  177.86444\n",
      "4959.2312   NaN  177.86444\n",
      "4959.3836   NaN  177.86444\n",
      "4959.5360   NaN  177.86444\n",
      "4959.6884   NaN  177.86444\n",
      "4959.8408   NaN  177.86444\n",
      "4959.9932   NaN  177.86444\n",
      "4960.1456   NaN  177.86444\n",
      "4960.2980   NaN  177.86444\n",
      "4960.4504   NaN  177.86444\n",
      "4960.6028   NaN  177.86444\n",
      "4960.7552   NaN  177.86444\n",
      "4960.9076   NaN  177.86444\n",
      "4961.0600   NaN  177.86444\n",
      "4961.2124   NaN  177.86444\n",
      "4961.3648   NaN  177.86444\n",
      "4961.5172   NaN  177.86444\n",
      "4961.6696   NaN  177.86444\n",
      "4961.8220   NaN  177.86444\n",
      "4961.9744   NaN  177.86444\n",
      "4962.1268   NaN  177.86444\n",
      "4962.2792   NaN  177.86444\n",
      "4962.4316   NaN  177.86444\n",
      "4962.5840   NaN  177.86444\n",
      "4962.7364   NaN  177.86444\n",
      "4962.8888   NaN  177.86444\n",
      "\n",
      "[3163 rows x 2 columns]\n"
     ]
    }
   ],
   "source": [
    "data = las.df()\n",
    "print (data)"
   ]
  },
  {
   "cell_type": "code",
   "execution_count": null,
   "metadata": {
    "collapsed": true
   },
   "outputs": [],
   "source": []
  }
 ],
 "metadata": {
  "kernelspec": {
   "display_name": "Python 3",
   "language": "python",
   "name": "python3"
  },
  "language_info": {
   "codemirror_mode": {
    "name": "ipython",
    "version": 3
   },
   "file_extension": ".py",
   "mimetype": "text/x-python",
   "name": "python",
   "nbconvert_exporter": "python",
   "pygments_lexer": "ipython3",
   "version": "3.6.0"
  }
 },
 "nbformat": 4,
 "nbformat_minor": 2
}
